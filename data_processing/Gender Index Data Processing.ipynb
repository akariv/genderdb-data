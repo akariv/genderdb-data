{
 "cells": [
  {
   "cell_type": "code",
   "execution_count": 1,
   "metadata": {
    "collapsed": true,
    "deletable": true,
    "editable": true
   },
   "outputs": [],
   "source": [
    "import tabulator\n",
    "from urllib.request import urlretrieve\n",
    "import csv\n",
    "import json\n",
    "import math\n",
    "import logging\n",
    "from math import exp\n",
    "from statistics import mean, stdev, median"
   ]
  },
  {
   "cell_type": "code",
   "execution_count": 2,
   "metadata": {
    "collapsed": false,
    "deletable": true,
    "editable": true
   },
   "outputs": [],
   "source": [
    "def stripstr(s):\n",
    "    if s is not None: return ' '.join(s.split()).strip() \n",
    "\n",
    "def process_gsheet():\n",
    "    urlretrieve('https://docs.google.com/spreadsheets/d/e/2PACX-1vQ9VOjw8JrOa-8fzcnlRuooY6e8I1Bm6f-IZOzhrOYXf8RY0cfqfT-5aL11WTA3MqLG3GEaDlW0iNB-/pub?output=xlsx', 'data.xlsx')\n",
    "    for sheet in range(1, 13):\n",
    "        print('SHEET', sheet)\n",
    "        s=tabulator.Stream('data.xlsx', sheet=sheet, headers=1)\n",
    "        try:\n",
    "            s.open()\n",
    "            prevkey = None\n",
    "            prevret = {}\n",
    "            for r in s.iter(keyed=True):\n",
    "                # is valid row?\n",
    "                assert 'value' in r, 'Bad ROW %r' % r\n",
    "                if r['value'] is None or len(str(r['value']).strip()) == 0:\n",
    "                    continue\n",
    "                r.setdefault('value_cmp', None)\n",
    "                # copy values from the previous row\n",
    "                ret = dict(\n",
    "                    (k, prevret.get(k))\n",
    "                    for k in ('category', 'series', 'subseries', 'calc', 'year', 'value_docuemtation')\n",
    "                )\n",
    "                # update with values from the current row\n",
    "                for k, v in r.items():\n",
    "                    if not k:\n",
    "                        continue\n",
    "                    if v is not None:\n",
    "                        ret[k] = v\n",
    "                    else:\n",
    "                        if k not in ret:\n",
    "                            ret[k] = None\n",
    "                # if series changed - reset value documentation\n",
    "                key = '{category}/{series}/{subseries}'.format(**r)\n",
    "                if key != prevkey:\n",
    "                    ret['value_docuemtation'] = None\n",
    "                # process datatypes a tad\n",
    "                for k, f in (\n",
    "                    ('year', int), \n",
    "                    ('extrapulation', bool), \n",
    "                    ('category', stripstr), \n",
    "                    ('series', stripstr), \n",
    "                    ('subseries', stripstr)\n",
    "                ):\n",
    "                    ret[k] = f(ret.get(k))\n",
    "                    \n",
    "                yield ret\n",
    "                prevkey, prevret = key, ret\n",
    "                    \n",
    "        except tabulator.exceptions.SourceError:\n",
    "            break"
   ]
  },
  {
   "cell_type": "code",
   "execution_count": 3,
   "metadata": {
    "collapsed": false,
    "deletable": true,
    "editable": true
   },
   "outputs": [],
   "source": [
    "def collate_series(rows):\n",
    "    series = {}\n",
    "    for r in rows:\n",
    "        key = '{category}/{series}/{subseries}'.format(**r)\n",
    "        values = series.setdefault(key, {\n",
    "            'kind': 'series',\n",
    "            'category': r['category'],\n",
    "            'series': r['series'],\n",
    "            'subseries': r['subseries'],\n",
    "            'title': r['subseries'],\n",
    "            'calc': r['calc'],\n",
    "            'values': []\n",
    "        })['values']\n",
    "        values.append({\n",
    "            'year': r['year'],\n",
    "            'value': r['value'],\n",
    "            'value_cmp': r['value_cmp'],\n",
    "            # TODO: copy src_url, src_title, value_docuemtation, extrapulation\n",
    "        })\n",
    "    return series\n",
    "    \n"
   ]
  },
  {
   "cell_type": "code",
   "execution_count": 4,
   "metadata": {
    "collapsed": true,
    "deletable": true,
    "editable": true
   },
   "outputs": [],
   "source": [
    "def two_parts(v1, v2, _):\n",
    "    if v2 is not None:\n",
    "        ratio = v1/(v1+v2)\n",
    "        assert 0 <= ratio <= 1\n",
    "        score = 100*(exp(    \n",
    "            -((ratio-0.5)**2) / (2*(0.16**2))\n",
    "        ))\n",
    "        return score"
   ]
  },
  {
   "cell_type": "code",
   "execution_count": 5,
   "metadata": {
    "collapsed": true,
    "deletable": true,
    "editable": true
   },
   "outputs": [],
   "source": [
    "def two_parts_percent(v1, v2, _):\n",
    "    assert 0 <= v1 <= 1\n",
    "    if v2 is None:\n",
    "        v2 = 1 - v1\n",
    "    return two_parts(v1, v2, _)"
   ]
  },
  {
   "cell_type": "code",
   "execution_count": 6,
   "metadata": {
    "collapsed": true,
    "deletable": true,
    "editable": true
   },
   "outputs": [],
   "source": [
    "def two_values(v1, v2, _):\n",
    "    return two_parts(v1, v2, _)"
   ]
  },
  {
   "cell_type": "code",
   "execution_count": 7,
   "metadata": {
    "collapsed": true,
    "deletable": true,
    "editable": true
   },
   "outputs": [],
   "source": [
    "def none(v1, v2, _):\n",
    "    return (1-v1)*100"
   ]
  },
  {
   "cell_type": "code",
   "execution_count": 8,
   "metadata": {
    "collapsed": true,
    "deletable": true,
    "editable": true
   },
   "outputs": [],
   "source": [
    "def index(v1, v2, norm):\n",
    "    return 100 - (v1/norm)*100"
   ]
  },
  {
   "cell_type": "code",
   "execution_count": 9,
   "metadata": {
    "collapsed": true,
    "deletable": true,
    "editable": true
   },
   "outputs": [],
   "source": [
    "def index_norm(v1, v2, norm):\n",
    "    print(v1, v2, norm)\n",
    "    if v2:\n",
    "        return 100 - ((v1/v2)/norm)*100"
   ]
  },
  {
   "cell_type": "code",
   "execution_count": 10,
   "metadata": {
    "collapsed": true,
    "deletable": true,
    "editable": true
   },
   "outputs": [],
   "source": [
    "def calc_scores(series):\n",
    "    for k, s in series.items():\n",
    "        try:\n",
    "            calc = globals()[s['calc']]\n",
    "        except:\n",
    "            logging.error('BAD CALC %r, %r', k, s)\n",
    "        norm_value = 0\n",
    "        for v in s['values']:\n",
    "            if s['calc'] == 'index_norm':\n",
    "                if v['value_cmp']:\n",
    "                    norm_value = max(norm_value, v['value'] / v['value_cmp'])\n",
    "            else:\n",
    "                norm_value = max(norm_value, v['value'])\n",
    "        if calc=='index':\n",
    "            assert norm_value, 'BAD ROW %r %r' % (k, s) \n",
    "        for v in s['values']:\n",
    "            try:\n",
    "                v['score'] = calc(v['value'], v['value_cmp'], norm_value)\n",
    "            except:\n",
    "                assert False, 'BAD ROW %r %r' % (k, s) \n",
    "            assert v['score'] is None or (0 <= v['score'] <= 100), 'BAD VALUE %r, %r, %r' % (v['score'], k, s)\n",
    "        s['values'] = [x for x in s['values'] if x['score'] is not None]\n",
    "    return series\n"
   ]
  },
  {
   "cell_type": "code",
   "execution_count": 11,
   "metadata": {
    "collapsed": false,
    "deletable": true,
    "editable": true
   },
   "outputs": [],
   "source": [
    "def calc_averages(series, kf='{category}', title=None):\n",
    "    avgs = {}\n",
    "    for s in series.values():\n",
    "        k = kf.format(**s)\n",
    "        a = avgs.setdefault(k, {\n",
    "            'kind': 'avg' if kf != 'total' else 'total',\n",
    "            'category': k,\n",
    "            'title': title if title is not None else k,\n",
    "#             'series': set(),\n",
    "            'values': {}\n",
    "        })\n",
    "#         a['series'].add(s['title'])\n",
    "        for v in s['values']:\n",
    "            a['values'].setdefault(v['year'], []).append(v['score'])\n",
    "    for a in avgs.values():\n",
    "        values = []\n",
    "        for year, scores in a['values'].items():\n",
    "            values.append({\n",
    "                'year': year,\n",
    "                'score': mean(scores),\n",
    "                'error': stdev(scores) if len(scores)>1 else 0,\n",
    "                'count': len(scores)\n",
    "            })\n",
    "        median_count = median(map(lambda x:x['count'], values))\n",
    "        a['values'] = sorted(filter(lambda x:x['count']>=median_count, values), key=lambda v:v['year'])\n",
    "#         a['series'] = list(a['series'])\n",
    "    series.update(avgs)\n",
    "    if len(avgs) > 1:\n",
    "        series.update(calc_averages(avgs, kf='total', title='מדד המגדר'))\n",
    "    return series\n",
    "            "
   ]
  },
  {
   "cell_type": "code",
   "execution_count": 12,
   "metadata": {
    "collapsed": false,
    "deletable": true,
    "editable": true
   },
   "outputs": [
    {
     "name": "stdout",
     "output_type": "stream",
     "text": [
      "SHEET 1\n",
      "SHEET 2\n",
      "SHEET 3\n",
      "SHEET 4\n",
      "SHEET 5\n",
      "SHEET 6\n",
      "SHEET 7\n",
      "SHEET 8\n",
      "SHEET 9\n",
      "SHEET 10\n",
      "SHEET 11\n",
      "SHEET 12\n",
      "1160.0 None 3.4710935686092412\n",
      "1499.0 None 3.4710935686092412\n",
      "4154.0 None 3.4710935686092412\n",
      "6012.0 None 3.4710935686092412\n",
      "5236.0 None 3.4710935686092412\n",
      "7073.0 None 3.4710935686092412\n",
      "7085.0 None 3.4710935686092412\n",
      "8669.0 None 3.4710935686092412\n",
      "7802.0 None 3.4710935686092412\n",
      "6982.0 None 3.4710935686092412\n",
      "8049.0 2540.0 3.4710935686092412\n",
      "8970.0 2584.2 3.4710935686092412\n",
      "8862.0 2629.7 3.4710935686092412\n",
      "8729.0 2674.8 3.4710935686092412\n",
      "7793.0 2720.8 3.4710935686092412\n",
      "7594.0 2766.8 3.4710935686092412\n",
      "7845.0 2811.2 3.4710935686092412\n",
      "7930.0 2859.4 3.4710935686092412\n",
      "7700.0 2905.1 3.4710935686092412\n",
      "8637.0 2956.7 3.4710935686092412\n",
      "8938.0 3008.39 3.4710935686092412\n",
      "9197.0 3067.2 3.4710935686092412\n",
      "670.0 2540.0 0.49947835159102766\n",
      "698.0 2584.2 0.49947835159102766\n",
      "854.0 2629.7 0.49947835159102766\n",
      "955.0 2674.8 0.49947835159102766\n",
      "894.0 2720.8 0.49947835159102766\n",
      "829.0 2766.8 0.49947835159102766\n",
      "962.0 2811.2 0.49947835159102766\n",
      "921.0 2859.4 0.49947835159102766\n",
      "1006.0 2905.1 0.49947835159102766\n",
      "1020.969 2956.7 0.49947835159102766\n",
      "1247.0 3008.39 0.49947835159102766\n",
      "1532.0 3067.2 0.49947835159102766\n",
      "15180.0 None 6.023140623790729\n",
      "15121.0 None 6.023140623790729\n",
      "15726.0 None 6.023140623790729\n",
      "15144.0 2540.0 6.023140623790729\n",
      "15565.0 2584.2 6.023140623790729\n",
      "15150.0 2629.7 6.023140623790729\n",
      "14713.0 2674.8 6.023140623790729\n",
      "13992.0 2720.8 6.023140623790729\n",
      "6700.0 2766.8 6.023140623790729\n",
      "7496.280000000001 2811.2 6.023140623790729\n",
      "7872.0 2859.4 6.023140623790729\n",
      "7335.0 2905.1 6.023140623790729\n",
      "7286.0 2956.7 6.023140623790729\n",
      "7562.0 3008.39 6.023140623790729\n",
      "6921.0 3067.2 6.023140623790729\n",
      "16699.0 None 6.5\n",
      "16121.0 None 6.5\n",
      "15308.0 None 6.5\n",
      "15468.0 None 6.5\n",
      "16510.0 2540.0 6.5\n",
      "15944.0 2584.2 6.5\n",
      "14665.0 2629.7 6.5\n",
      "14748.0 2674.8 6.5\n",
      "15180.0 2720.8 6.5\n",
      "15121.0 2766.8 6.5\n",
      "15726.0 2811.2 6.5\n",
      "15144.0 2859.4 6.5\n",
      "15565.0 2905.1 6.5\n",
      "15150.0 2956.7 6.5\n",
      "14713.0 3008.39 6.5\n",
      "13992.0 3067.2 6.5\n"
     ]
    }
   ],
   "source": [
    "series = collate_series(process_gsheet())\n",
    "series = calc_scores(series)\n",
    "series = calc_averages(series)\n"
   ]
  },
  {
   "cell_type": "code",
   "execution_count": 13,
   "metadata": {
    "collapsed": false,
    "deletable": true,
    "editable": true
   },
   "outputs": [],
   "source": [
    "from pprint import pprint\n",
    "import matplotlib\n",
    "import matplotlib.pyplot as plt\n",
    "%matplotlib inline\n",
    "matplotlib.rcParams['figure.figsize'] = (18, 18)\n",
    "\n",
    "def reverse(s): return ''.join(reversed(s))\n",
    "filtered = [(k, s) for k, s in series.items()]# if k.startswith('מיגדור מקצועי/')]\n",
    "\n",
    "minyear = max(min(x['year'] for x in s['values']) for _, s in filtered)\n",
    "maxyear = 2014 # min(max(x['year'] for x in s['values']) for _, s in filtered)\n",
    "for k, s in filtered:\n",
    "    s['values'] = list(filter(lambda v: maxyear >= v['year'] >= minyear, s['values']))\n",
    "    s['key'] = k\n",
    "filtered = [s for k, s in filtered] \n",
    "\n",
    "json.dump(filtered, open('filtered.json', 'w'))"
   ]
  },
  {
   "cell_type": "code",
   "execution_count": 14,
   "metadata": {
    "collapsed": true
   },
   "outputs": [],
   "source": [
    "from numpy import sign\n",
    "def svg_widget(t):\n",
    "    main, key, _, val, slope = t\n",
    "    title = key.split('/')[-1]\n",
    "    style = '14' if title == main else '8'\n",
    "    rads = val/100*math.pi\n",
    "    rotate= val/100*180\n",
    "    dialx = 60 - 50*math.cos(rads)\n",
    "    dialy = 100 - 50*math.sin(rads)\n",
    "    colorval = (val/10)**2\n",
    "    red = int(255 - colorval)\n",
    "    green = int(155 + colorval)\n",
    "    blue = 155\n",
    "    trend=-slope*5-3*sign(slope)\n",
    "    lineend=trend+sign(slope)*3\n",
    "    color = '#%02x%02x%02x' % (red, green, blue)\n",
    "    return \"\"\"\n",
    "<div style=\"display: inline-block;width:120px;vertical-align:top;\">\n",
    "<svg width=\"120\" height=\"120\">\n",
    "    <path style=\"stroke: {color};fill:{color}\" d=\"M10,100A50,50,1,1,1,110,100\"/>\n",
    "    <path style=\"stroke: black;fill:none\" d=\"M60,100L{dialx},{dialy}\"/>\n",
    "    <g transform=\"translate({dialx},{dialy}),rotate({rotate})\">\n",
    "        <path style=\"stroke:black;fill:none\" d=\"M0,0L0,{trend}L5,{lineend},M0,{trend}L-5,{lineend}\">\n",
    "    </g>\n",
    "</svg>\n",
    "<div style=\"display:inline-block;height:40px;width:120px;font-size:{style}px;\">\n",
    "<center>\n",
    "{title}\n",
    "</center>\n",
    "</div>\n",
    "</div>\n",
    "\"\"\".format(title=title, style=style, dialx=dialx, dialy=dialy, \n",
    "           color=color, trend=trend, lineend=lineend,\n",
    "           rotate=rotate)\n",
    "#     <text x=\"60\" y=\"125\" style=\"text-anchor:middle;fill:black;\" font-size=\"{style}\">{title}</text>\n"
   ]
  },
  {
   "cell_type": "code",
   "execution_count": 15,
   "metadata": {
    "collapsed": false
   },
   "outputs": [
    {
     "name": "stdout",
     "output_type": "stream",
     "text": [
      "{'calc': 'index_norm',\n",
      " 'category': 'אלימות',\n",
      " 'key': 'אלימות/None/תיקים שהועברו לתביעה המשטרתית או לפרקליטות',\n",
      " 'kind': 'series',\n",
      " 'series': None,\n",
      " 'subseries': 'תיקים שהועברו לתביעה המשטרתית או לפרקליטות',\n",
      " 'title': 'תיקים שהועברו לתביעה המשטרתית או לפרקליטות',\n",
      " 'values': [{'score': 45.9229949908492,\n",
      "             'value': 698.0,\n",
      "             'value_cmp': 2584.2,\n",
      "             'year': 2005},\n",
      "            {'score': 34.981792143193374,\n",
      "             'value': 854.0,\n",
      "             'value_cmp': 2629.7,\n",
      "             'year': 2006},\n",
      "            {'score': 28.518215265893346,\n",
      "             'value': 955.0,\n",
      "             'value_cmp': 2674.8,\n",
      "             'year': 2007},\n",
      "            {'score': 34.215401245064626,\n",
      "             'value': 894.0,\n",
      "             'value_cmp': 2720.8,\n",
      "             'year': 2008},\n",
      "            {'score': 40.01259242846267,\n",
      "             'value': 829.0,\n",
      "             'value_cmp': 2766.8,\n",
      "             'year': 2009},\n",
      "            {'score': 31.48799802654358,\n",
      "             'value': 962.0,\n",
      "             'value_cmp': 2811.2,\n",
      "             'year': 2010},\n",
      "            {'score': 35.513612653314595,\n",
      "             'value': 921.0,\n",
      "             'value_cmp': 2859.4,\n",
      "             'year': 2011},\n",
      "            {'score': 30.6701557439321,\n",
      "             'value': 1006.0,\n",
      "             'value_cmp': 2905.1,\n",
      "             'year': 2012},\n",
      "            {'score': 30.866487221437424,\n",
      "             'value': 1020.969,\n",
      "             'value_cmp': 2956.7,\n",
      "             'year': 2013},\n",
      "            {'score': 17.011933301902232,\n",
      "             'value': 1247.0,\n",
      "             'value_cmp': 3008.39,\n",
      "             'year': 2014}]}\n"
     ]
    },
    {
     "ename": "NameError",
     "evalue": "name 'math' is not defined",
     "output_type": "error",
     "traceback": [
      "\u001b[0;31m---------------------------------------------------------------------------\u001b[0m",
      "\u001b[0;31mNameError\u001b[0m                                 Traceback (most recent call last)",
      "\u001b[0;32m<ipython-input-15-ab90f08c2565>\u001b[0m in \u001b[0;36m<module>\u001b[0;34m()\u001b[0m\n\u001b[1;32m     17\u001b[0m     \u001b[0mt\u001b[0m\u001b[0;34m[\u001b[0m\u001b[0mk\u001b[0m\u001b[0;34m]\u001b[0m \u001b[0;34m=\u001b[0m \u001b[0msorted\u001b[0m\u001b[0;34m(\u001b[0m\u001b[0mg\u001b[0m\u001b[0;34m,\u001b[0m \u001b[0mkey\u001b[0m\u001b[0;34m=\u001b[0m\u001b[0;32mlambda\u001b[0m \u001b[0mx\u001b[0m\u001b[0;34m:\u001b[0m\u001b[0mx\u001b[0m\u001b[0;34m[\u001b[0m\u001b[0;36m3\u001b[0m\u001b[0;34m]\u001b[0m\u001b[0;34m)\u001b[0m\u001b[0;34m\u001b[0m\u001b[0m\n\u001b[1;32m     18\u001b[0m     \u001b[0mhtml\u001b[0m \u001b[0;34m+=\u001b[0m \u001b[0;34m'<div style=\"border-bottom:1px solid\">'\u001b[0m\u001b[0;34m\u001b[0m\u001b[0m\n\u001b[0;32m---> 19\u001b[0;31m     \u001b[0mhtml\u001b[0m \u001b[0;34m+=\u001b[0m \u001b[0;34m''\u001b[0m\u001b[0;34m.\u001b[0m\u001b[0mjoin\u001b[0m\u001b[0;34m(\u001b[0m\u001b[0msvg_widget\u001b[0m\u001b[0;34m(\u001b[0m\u001b[0mp\u001b[0m\u001b[0;34m)\u001b[0m \u001b[0;32mfor\u001b[0m \u001b[0mp\u001b[0m \u001b[0;32min\u001b[0m \u001b[0mt\u001b[0m\u001b[0;34m[\u001b[0m\u001b[0mk\u001b[0m\u001b[0;34m]\u001b[0m\u001b[0;34m)\u001b[0m\u001b[0;34m\u001b[0m\u001b[0m\n\u001b[0m\u001b[1;32m     20\u001b[0m     \u001b[0mhtml\u001b[0m \u001b[0;34m+=\u001b[0m \u001b[0;34m'</div>'\u001b[0m\u001b[0;34m\u001b[0m\u001b[0m\n\u001b[1;32m     21\u001b[0m \u001b[0mhtml\u001b[0m \u001b[0;34m+=\u001b[0m \u001b[0;34m'</body></html>'\u001b[0m\u001b[0;34m\u001b[0m\u001b[0m\n",
      "\u001b[0;32m<ipython-input-15-ab90f08c2565>\u001b[0m in \u001b[0;36m<genexpr>\u001b[0;34m(.0)\u001b[0m\n\u001b[1;32m     17\u001b[0m     \u001b[0mt\u001b[0m\u001b[0;34m[\u001b[0m\u001b[0mk\u001b[0m\u001b[0;34m]\u001b[0m \u001b[0;34m=\u001b[0m \u001b[0msorted\u001b[0m\u001b[0;34m(\u001b[0m\u001b[0mg\u001b[0m\u001b[0;34m,\u001b[0m \u001b[0mkey\u001b[0m\u001b[0;34m=\u001b[0m\u001b[0;32mlambda\u001b[0m \u001b[0mx\u001b[0m\u001b[0;34m:\u001b[0m\u001b[0mx\u001b[0m\u001b[0;34m[\u001b[0m\u001b[0;36m3\u001b[0m\u001b[0;34m]\u001b[0m\u001b[0;34m)\u001b[0m\u001b[0;34m\u001b[0m\u001b[0m\n\u001b[1;32m     18\u001b[0m     \u001b[0mhtml\u001b[0m \u001b[0;34m+=\u001b[0m \u001b[0;34m'<div style=\"border-bottom:1px solid\">'\u001b[0m\u001b[0;34m\u001b[0m\u001b[0m\n\u001b[0;32m---> 19\u001b[0;31m     \u001b[0mhtml\u001b[0m \u001b[0;34m+=\u001b[0m \u001b[0;34m''\u001b[0m\u001b[0;34m.\u001b[0m\u001b[0mjoin\u001b[0m\u001b[0;34m(\u001b[0m\u001b[0msvg_widget\u001b[0m\u001b[0;34m(\u001b[0m\u001b[0mp\u001b[0m\u001b[0;34m)\u001b[0m \u001b[0;32mfor\u001b[0m \u001b[0mp\u001b[0m \u001b[0;32min\u001b[0m \u001b[0mt\u001b[0m\u001b[0;34m[\u001b[0m\u001b[0mk\u001b[0m\u001b[0;34m]\u001b[0m\u001b[0;34m)\u001b[0m\u001b[0;34m\u001b[0m\u001b[0m\n\u001b[0m\u001b[1;32m     20\u001b[0m     \u001b[0mhtml\u001b[0m \u001b[0;34m+=\u001b[0m \u001b[0;34m'</div>'\u001b[0m\u001b[0;34m\u001b[0m\u001b[0m\n\u001b[1;32m     21\u001b[0m \u001b[0mhtml\u001b[0m \u001b[0;34m+=\u001b[0m \u001b[0;34m'</body></html>'\u001b[0m\u001b[0;34m\u001b[0m\u001b[0m\n",
      "\u001b[0;32m<ipython-input-14-7f4417edb157>\u001b[0m in \u001b[0;36msvg_widget\u001b[0;34m(t)\u001b[0m\n\u001b[1;32m      4\u001b[0m     \u001b[0mtitle\u001b[0m \u001b[0;34m=\u001b[0m \u001b[0mkey\u001b[0m\u001b[0;34m.\u001b[0m\u001b[0msplit\u001b[0m\u001b[0;34m(\u001b[0m\u001b[0;34m'/'\u001b[0m\u001b[0;34m)\u001b[0m\u001b[0;34m[\u001b[0m\u001b[0;34m-\u001b[0m\u001b[0;36m1\u001b[0m\u001b[0;34m]\u001b[0m\u001b[0;34m\u001b[0m\u001b[0m\n\u001b[1;32m      5\u001b[0m     \u001b[0mstyle\u001b[0m \u001b[0;34m=\u001b[0m \u001b[0;34m'14'\u001b[0m \u001b[0;32mif\u001b[0m \u001b[0mtitle\u001b[0m \u001b[0;34m==\u001b[0m \u001b[0mmain\u001b[0m \u001b[0;32melse\u001b[0m \u001b[0;34m'8'\u001b[0m\u001b[0;34m\u001b[0m\u001b[0m\n\u001b[0;32m----> 6\u001b[0;31m     \u001b[0mrads\u001b[0m \u001b[0;34m=\u001b[0m \u001b[0mval\u001b[0m\u001b[0;34m/\u001b[0m\u001b[0;36m100\u001b[0m\u001b[0;34m*\u001b[0m\u001b[0mmath\u001b[0m\u001b[0;34m.\u001b[0m\u001b[0mpi\u001b[0m\u001b[0;34m\u001b[0m\u001b[0m\n\u001b[0m\u001b[1;32m      7\u001b[0m     \u001b[0mrotate\u001b[0m\u001b[0;34m=\u001b[0m \u001b[0mval\u001b[0m\u001b[0;34m/\u001b[0m\u001b[0;36m100\u001b[0m\u001b[0;34m*\u001b[0m\u001b[0;36m180\u001b[0m\u001b[0;34m\u001b[0m\u001b[0m\n\u001b[1;32m      8\u001b[0m     \u001b[0mdialx\u001b[0m \u001b[0;34m=\u001b[0m \u001b[0;36m60\u001b[0m \u001b[0;34m-\u001b[0m \u001b[0;36m50\u001b[0m\u001b[0;34m*\u001b[0m\u001b[0mmath\u001b[0m\u001b[0;34m.\u001b[0m\u001b[0mcos\u001b[0m\u001b[0;34m(\u001b[0m\u001b[0mrads\u001b[0m\u001b[0;34m)\u001b[0m\u001b[0;34m\u001b[0m\u001b[0m\n",
      "\u001b[0;31mNameError\u001b[0m: name 'math' is not defined"
     ]
    }
   ],
   "source": [
    "from scipy.stats import linregress\n",
    "import itertools\n",
    "trends = []\n",
    "for f in filtered:\n",
    "    x = [t['year'] for t in f['values']]\n",
    "    y = [t['score'] for t in f['values']]\n",
    "    lr = linregress(x=x, y=y)\n",
    "    trends.append((f['key'].split('/')[0], f['key'], x[-1], y[-1], lr.slope))\n",
    "    if 'לפרקליטות' in f['key'] and f['category']=='אלימות':\n",
    "        import pprint\n",
    "        pprint.pprint(f)\n",
    "trends = sorted(trends, key=lambda x:x[0])\n",
    "trends = itertools.groupby(trends, key=lambda x:x[0])\n",
    "t = {}\n",
    "html = \"<html><body>\"\n",
    "for k, g in trends:\n",
    "    t[k] = sorted(g, key=lambda x:x[3])\n",
    "    html += '<div style=\"border-bottom:1px solid\">'\n",
    "    html += ''.join(svg_widget(p) for p in t[k])\n",
    "    html += '</div>'\n",
    "html += '</body></html>'\n",
    "open('/Users/adam/code/genderdb/interactions/demo2/widgets.html', 'w').write(html)"
   ]
  },
  {
   "cell_type": "code",
   "execution_count": null,
   "metadata": {
    "collapsed": false
   },
   "outputs": [],
   "source": [
    "for s in filtered:\n",
    "    width = 2**(4-len(s['key'].split('/')))\n",
    "    style = 'b-' if s['kind'] == 'avg' else 'b:'\n",
    "    y = [v['score'] for v in s['values']]\n",
    "    x = [v['year'] for v in s['values']]\n",
    "    plt.plot(x, y, style, linewidth=width)\n",
    "    plt.text(x[-1], y[-1], reverse(s['title']), fontsize=18)\n",
    "# plt.show()"
   ]
  },
  {
   "cell_type": "markdown",
   "metadata": {
    "deletable": true,
    "editable": true
   },
   "source": [
    "w = csv.DictWriter(open('data.csv', 'w'), [\n",
    "    'category', 'series', 'subseries', \n",
    "    'calc', 'year', \n",
    "    'value', 'value_cmp', \n",
    "    'src_url', 'src_title', \n",
    "    'value_docuemtation', 'extrapulation'\n",
    "])\n",
    "w.writeheader()\n",
    "w.writerows(it)"
   ]
  },
  {
   "cell_type": "code",
   "execution_count": null,
   "metadata": {
    "collapsed": true,
    "deletable": true,
    "editable": true
   },
   "outputs": [],
   "source": []
  }
 ],
 "metadata": {
  "kernelspec": {
   "display_name": "Python 3",
   "language": "python",
   "name": "python3"
  },
  "language_info": {
   "codemirror_mode": {
    "name": "ipython",
    "version": 3
   },
   "file_extension": ".py",
   "mimetype": "text/x-python",
   "name": "python",
   "nbconvert_exporter": "python",
   "pygments_lexer": "ipython3",
   "version": "3.6.1"
  }
 },
 "nbformat": 4,
 "nbformat_minor": 2
}
